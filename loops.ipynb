{
 "cells": [
  {
   "cell_type": "markdown",
   "metadata": {},
   "source": [
    "### What is a Loop?\n",
    "\n",
    "- A loop is a way to repeat a block of code\n",
    "\n",
    "- Useful for doing things multiple times witchout writing the same code over and over agin"
   ]
  },
  {
   "cell_type": "markdown",
   "metadata": {},
   "source": [
    "#### For Loops\n",
    "\n",
    "- Use to repeat code a specific number of times\n",
    "\n",
    "- Often used with lits and ranges"
   ]
  }
 ],
 "metadata": {
  "language_info": {
   "name": "python"
  }
 },
 "nbformat": 4,
 "nbformat_minor": 2
}
