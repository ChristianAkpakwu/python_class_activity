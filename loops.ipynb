{
 "cells": [
  {
   "cell_type": "markdown",
   "metadata": {},
   "source": [
    "### What is a Loop?\n",
    "\n",
    "- A loop is a way to repeat a block of code\n",
    "\n",
    "- Useful for doing things multiple times witchout writing the same code over and over agin"
   ]
  }
 ],
 "metadata": {
  "language_info": {
   "name": "python"
  }
 },
 "nbformat": 4,
 "nbformat_minor": 2
}
