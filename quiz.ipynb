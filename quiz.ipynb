{
 "cells": [
  {
   "cell_type": "markdown",
   "metadata": {},
   "source": [
    "## Quiz\n",
    "\n"
   ]
  },
  {
   "cell_type": "markdown",
   "metadata": {},
   "source": [
    "#### Arithmetic Operators\n",
    "\n",
    "- (+) (addition)\n",
    "\n",
    "- (-) (subtraction)\n",
    "\n",
    "- (/) (division)\n",
    "\n",
    "-  (*) (multiplication)\n",
    "\n",
    "- (**) (exponent)\n",
    "\n",
    "- \n"
   ]
  },
  {
   "cell_type": "code",
   "execution_count": null,
   "metadata": {},
   "outputs": [],
   "source": [
    "# The input funtion is used to get an input"
   ]
  },
  {
   "cell_type": "code",
   "execution_count": 5,
   "metadata": {},
   "outputs": [],
   "source": [
    "# Requesting a user's name,age and, height\n",
    "name = str(input(\"what is your name ?\"))\n",
    "age = int(input(\"how old are you ?\"))\n",
    "height = float(input(\"what is you height ?\"))"
   ]
  },
  {
   "cell_type": "code",
   "execution_count": 7,
   "metadata": {},
   "outputs": [
    {
     "name": "stdout",
     "output_type": "stream",
     "text": [
      "Christian\n",
      "11\n",
      "4.11\n"
     ]
    }
   ],
   "source": [
    "#Display an output of the information collected\n",
    "print(name)\n",
    "print(age)\n",
    "print(height)\n"
   ]
  },
  {
   "cell_type": "code",
   "execution_count": 8,
   "metadata": {},
   "outputs": [
    {
     "name": "stdout",
     "output_type": "stream",
     "text": [
      "my name is Christian, i am 11, i am 4.11\n"
     ]
    }
   ],
   "source": [
    "print(f\"my name is {name}, i am {age}, i am {height}\")"
   ]
  },
  {
   "cell_type": "code",
   "execution_count": 9,
   "metadata": {},
   "outputs": [
    {
     "name": "stdout",
     "output_type": "stream",
     "text": [
      "my name is Christian i am  11 i am 4.11\n"
     ]
    }
   ],
   "source": [
    "print(\"my name is\", name, \"i am \", age, \"i am\", height)"
   ]
  },
  {
   "cell_type": "markdown",
   "metadata": {},
   "source": [
    "## What is the if else statment\n",
    "\n",
    "- for example, if i like vanilla i will use vanilla if else i will use choclate"
   ]
  },
  {
   "cell_type": "markdown",
   "metadata": {},
   "source": [
    " #### Comparison operators\n",
    "\n",
    " - (==) (equals to)\n",
    "\n",
    " - (!=) (not equals to)\n",
    " \n",
    " - (<) (less than)\n",
    "\n",
    " - (>) (greater than)\n",
    "\n",
    " - (<=) (less than or equal to)\n",
    "\n",
    " - (>=) (greater than or equal to)\n"
   ]
  },
  {
   "cell_type": "code",
   "execution_count": 19,
   "metadata": {},
   "outputs": [
    {
     "name": "stdout",
     "output_type": "stream",
     "text": [
      "adult\n"
     ]
    }
   ],
   "source": [
    "userage = int(input(\"enter your age\"))\n",
    "\n",
    "if userage >= 18:\n",
    "    print(\"adult\")\n",
    "else:\n",
    "    print(\"underage\")"
   ]
  },
  {
   "cell_type": "code",
   "execution_count": 22,
   "metadata": {},
   "outputs": [
    {
     "name": "stdout",
     "output_type": "stream",
     "text": [
      "login sucsessful\n"
     ]
    }
   ],
   "source": [
    "password = int(input(\"what is your password\"))\n",
    "\n",
    "if password == 12345:\n",
    "    print(\"login sucsessful\")\n",
    "else:\n",
    "    print('login unsucsessfull')"
   ]
  },
  {
   "cell_type": "markdown",
   "metadata": {},
   "source": [
    "#### Difference between github and git\n",
    "\n",
    "- git is a distribued version control\n",
    "\n",
    "- github is where you can share your work"
   ]
  },
  {
   "cell_type": "markdown",
   "metadata": {},
   "source": [
    "#### String  Concatenation and String Repetition\n",
    "\n",
    "- String Concatenation is Combing strings using the + operator\n",
    "\n",
    "- String Repetition is repeating strins using the * operator\n"
   ]
  },
  {
   "cell_type": "code",
   "execution_count": 2,
   "metadata": {},
   "outputs": [
    {
     "name": "stdout",
     "output_type": "stream",
     "text": [
      " HELLO WORLD \n",
      " hello world \n",
      " Hello World \n",
      "hello world\n"
     ]
    }
   ],
   "source": [
    "text = \" hello world \"\n",
    "print(text.upper())\n",
    "print(text.lower())\n",
    "print(text.title())\n",
    "print(text.strip())"
   ]
  }
 ],
 "metadata": {
  "kernelspec": {
   "display_name": "Python 3",
   "language": "python",
   "name": "python3"
  },
  "language_info": {
   "codemirror_mode": {
    "name": "ipython",
    "version": 3
   },
   "file_extension": ".py",
   "mimetype": "text/x-python",
   "name": "python",
   "nbconvert_exporter": "python",
   "pygments_lexer": "ipython3",
   "version": "3.12.4"
  }
 },
 "nbformat": 4,
 "nbformat_minor": 2
}
