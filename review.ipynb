{
 "cells": [
  {
   "cell_type": "markdown",
   "metadata": {},
   "source": [
    "# Python review"
   ]
  },
  {
   "cell_type": "markdown",
   "metadata": {},
   "source": [
    "#### what is a varible?\n",
    "\n",
    "- A variable is like a container that holds data.\n",
    "\n",
    "-It allows you to store information and use it later in your program."
   ]
  },
  {
   "cell_type": "code",
   "execution_count": 2,
   "metadata": {},
   "outputs": [],
   "source": [
    "color = \"red\" "
   ]
  },
  {
   "cell_type": "markdown",
   "metadata": {},
   "source": [
    "#### Data Types\n",
    "\n",
    "- String: a word enclosed in quotes.\n",
    "\n",
    "- Integers: Whole numbers, positive or negative.\n",
    "\n",
    "- Floats: Numbers with a decimal point.\n",
    "\n",
    "- Booleans: True or False.\n"
   ]
  },
  {
   "cell_type": "code",
   "execution_count": 3,
   "metadata": {},
   "outputs": [],
   "source": [
    "animal = \"panda\"\n",
    "age = 11\n",
    "height = 4.11\n",
    "tall = True"
   ]
  },
  {
   "cell_type": "markdown",
   "metadata": {},
   "source": [
    "#### Arithmetic Operations\n",
    "\n",
    "- Addition: +\n",
    "\n",
    "- Subtraction: -\n",
    "\n",
    "- Multiplication: *\n",
    "\n",
    "- Division: /\n",
    "\n",
    "- Modulus (remainder): %\n",
    "\n",
    "- Exponentiation: **\n"
   ]
  },
  {
   "cell_type": "code",
   "execution_count": 4,
   "metadata": {},
   "outputs": [],
   "source": [
    "number1 = 10\n",
    "number2 = 15"
   ]
  },
  {
   "cell_type": "code",
   "execution_count": 7,
   "metadata": {},
   "outputs": [
    {
     "name": "stdout",
     "output_type": "stream",
     "text": [
      "25\n"
     ]
    }
   ],
   "source": [
    "print(number2 + number1)"
   ]
  },
  {
   "cell_type": "markdown",
   "metadata": {},
   "source": [
    "#### Getting Input from the User\n",
    "\n",
    "- Use the input() function to get user input.\n",
    "\n",
    "- The input is always a string.\n"
   ]
  },
  {
   "cell_type": "code",
   "execution_count": 9,
   "metadata": {},
   "outputs": [],
   "source": [
    "animal = str(input(\"what type of animal are you? \"))"
   ]
  },
  {
   "cell_type": "code",
   "execution_count": 10,
   "metadata": {},
   "outputs": [],
   "source": [
    "age = int(input(\"what is your age? \"))"
   ]
  },
  {
   "cell_type": "code",
   "execution_count": 11,
   "metadata": {},
   "outputs": [],
   "source": [
    "height = float(input(\"what is your height? \"))"
   ]
  },
  {
   "cell_type": "code",
   "execution_count": 12,
   "metadata": {},
   "outputs": [],
   "source": [
    "cool = bool(input(\"are you cool?\"))"
   ]
  },
  {
   "cell_type": "markdown",
   "metadata": {},
   "source": [
    "#### String Concatenation\n",
    "\n",
    "- Combining strings using the + operator.\n"
   ]
  },
  {
   "cell_type": "code",
   "execution_count": 14,
   "metadata": {},
   "outputs": [],
   "source": [
    "song = \"golden hour\"  +  \"hunger Games\""
   ]
  },
  {
   "cell_type": "code",
   "execution_count": 16,
   "metadata": {},
   "outputs": [
    {
     "name": "stdout",
     "output_type": "stream",
     "text": [
      "golden hourhunger Games\n"
     ]
    }
   ],
   "source": [
    "print(song)"
   ]
  },
  {
   "cell_type": "markdown",
   "metadata": {},
   "source": [
    "#### String Repetition\n",
    "\n",
    "- Repeating strings using the * operator.\n",
    "\n"
   ]
  },
  {
   "cell_type": "code",
   "execution_count": 18,
   "metadata": {},
   "outputs": [],
   "source": [
    "place = \"house\"\n",
    "repeated_word = place *3"
   ]
  },
  {
   "cell_type": "code",
   "execution_count": 19,
   "metadata": {},
   "outputs": [
    {
     "name": "stdout",
     "output_type": "stream",
     "text": [
      "househousehouse\n"
     ]
    }
   ],
   "source": [
    "print (repeated_word)"
   ]
  },
  {
   "cell_type": "markdown",
   "metadata": {},
   "source": [
    "#### Accessing Characters in a String\n",
    "\n",
    "- Using indexing to access specific characters.\n",
    "\n",
    "- Indexing starts at 0."
   ]
  },
  {
   "cell_type": "code",
   "execution_count": 20,
   "metadata": {},
   "outputs": [
    {
     "name": "stdout",
     "output_type": "stream",
     "text": [
      "h\n"
     ]
    }
   ],
   "source": [
    "print(place[0])"
   ]
  },
  {
   "cell_type": "markdown",
   "metadata": {},
   "source": [
    "#### Slicing Strings\n",
    "\n",
    "- Extracting parts of a string using slices."
   ]
  },
  {
   "cell_type": "code",
   "execution_count": 23,
   "metadata": {},
   "outputs": [
    {
     "name": "stdout",
     "output_type": "stream",
     "text": [
      "ous\n"
     ]
    }
   ],
   "source": [
    "print(place[1:4])"
   ]
  },
  {
   "cell_type": "markdown",
   "metadata": {},
   "source": [
    "#### String Length\n",
    "\n",
    "- Using the len() function to get the length of a string.\n"
   ]
  },
  {
   "cell_type": "code",
   "execution_count": 24,
   "metadata": {},
   "outputs": [
    {
     "data": {
      "text/plain": [
       "5"
      ]
     },
     "execution_count": 24,
     "metadata": {},
     "output_type": "execute_result"
    }
   ],
   "source": [
    "len(place)"
   ]
  },
  {
   "cell_type": "markdown",
   "metadata": {},
   "source": [
    "#### String MethodsCommon string methods:\n",
    "- upper(): Converts to uppercase\n",
    "\n",
    "- lower(): Converts to lowercase\n",
    "\n",
    "- title(): Capitalizes the first letter of each word\n",
    "\n",
    "- strip(): Removes whitespace\n"
   ]
  },
  {
   "cell_type": "code",
   "execution_count": 26,
   "metadata": {},
   "outputs": [
    {
     "name": "stdout",
     "output_type": "stream",
     "text": [
      "HI\n"
     ]
    }
   ],
   "source": [
    "word = \"hi\"\n",
    "print(word.upper())"
   ]
  },
  {
   "cell_type": "code",
   "execution_count": 27,
   "metadata": {},
   "outputs": [
    {
     "name": "stdout",
     "output_type": "stream",
     "text": [
      "hi\n"
     ]
    }
   ],
   "source": [
    "print(word.lower())"
   ]
  },
  {
   "cell_type": "code",
   "execution_count": 28,
   "metadata": {},
   "outputs": [
    {
     "name": "stdout",
     "output_type": "stream",
     "text": [
      "Hi\n"
     ]
    }
   ],
   "source": [
    "print(word.title())"
   ]
  },
  {
   "cell_type": "code",
   "execution_count": 29,
   "metadata": {},
   "outputs": [
    {
     "name": "stdout",
     "output_type": "stream",
     "text": [
      "Christian is a boy\n"
     ]
    }
   ],
   "source": [
    "print(\"Christian is a boy\".strip())"
   ]
  },
  {
   "cell_type": "markdown",
   "metadata": {},
   "source": [
    "#### What is an If-Else Statement?\n",
    "\n",
    "- if-Else statements help your program make decisions.\n",
    "\n",
    "- it's like asking a question and doing something based on the answer.\n"
   ]
  },
  {
   "cell_type": "markdown",
   "metadata": {},
   "source": [
    "#### Comparison Operators\n",
    "\n",
    "- Equals: a == b. This checks if a is the same thing with b\n",
    "\n",
    "- Not equals: a != b. This checks if the value of a is not equal to b\n",
    "\n",
    "- Less than: a < b. This checks if the value on the left side is less than the \n",
    "value on the right side.\n",
    "\n",
    "- Greater than: a > b. This checks if the value on the left side is greater than\n",
    "the value on the right side.\n",
    "\n",
    "- Less than or equal to: a <= b. This checks if the value on the left side is less than or equal to the value on the right side.\n",
    "\n",
    "- Greater than or equal to: a >= b. This checks if the value on the left side is greater than or equal to the value on the right side.\n",
    "\n"
   ]
  },
  {
   "cell_type": "code",
   "execution_count": 31,
   "metadata": {},
   "outputs": [
    {
     "name": "stdout",
     "output_type": "stream",
     "text": [
      "login succsesful\n"
     ]
    }
   ],
   "source": [
    "password = int(input(\"what is your password? \"))\n",
    "\n",
    "number = 2456\n",
    "\n",
    "if password == number:\n",
    "    print(\"login succsesful\")\n",
    "else:\n",
    "    print(\"login unseccsesful\")"
   ]
  },
  {
   "cell_type": "markdown",
   "metadata": {},
   "source": [
    "#### The Syntax of If-Else in Python\n",
    "\n",
    "- if Statement: if condition:\n",
    "\n",
    "- Else Statement: else:\n"
   ]
  },
  {
   "cell_type": "markdown",
   "metadata": {},
   "source": [
    "#### What is elif?\n",
    "\n",
    "- elif stands for \"else if\".\n",
    "\n",
    "- it's used to check multiple conditions.\n",
    "\n",
    "- Helps your program make decisions.\n",
    "\n"
   ]
  },
  {
   "cell_type": "code",
   "execution_count": 41,
   "metadata": {},
   "outputs": [
    {
     "name": "stdout",
     "output_type": "stream",
     "text": [
      "wear a coat\n"
     ]
    }
   ],
   "source": [
    "weather = (input(\"what the weather? \"))\n",
    "\n",
    "if weather == \"hot\":\n",
    "    print(\"wear a tshirt\")\n",
    "elif weather == \"cold\":\n",
    "    print(\"wear a jacket\")\n",
    "else:\n",
    "    print(\"wear a coat\")"
   ]
  },
  {
   "cell_type": "markdown",
   "metadata": {},
   "source": [
    "#### Types of Brackets\n",
    "\n",
    "- Parentheses ( )\n",
    "\n",
    "- Square Brackets [ ]\n",
    "\n",
    "- Curly Braces { }\n"
   ]
  },
  {
   "cell_type": "markdown",
   "metadata": {},
   "source": [
    "##### Parentheses ( )\n",
    "\n",
    "- Use: To call functions"
   ]
  },
  {
   "cell_type": "markdown",
   "metadata": {},
   "source": [
    "##### Square Brackets [ ]\n",
    "\n",
    "- Use:\n",
    "\n",
    "- Lists: To define lists.\n",
    "\n",
    "- Indexing: To access elements in lists.\n",
    "\n",
    "- slicing\n"
   ]
  },
  {
   "cell_type": "markdown",
   "metadata": {},
   "source": [
    "##### Curly Braces { }\n",
    "\n",
    "- Use\n",
    "\n",
    "- Dictionaries: To define dictionaries.\n",
    "\n",
    "- Sets: To define sets.\n",
    "\n",
    "- Blocks of Code: In some programming languages like JavaScript, to group statements.\n"
   ]
  },
  {
   "cell_type": "markdown",
   "metadata": {},
   "source": [
    "#### What is a Loop?\n",
    "\n",
    "- A loop is a way to repeat a block of code.\n",
    "\n",
    "- Useful for doing things multiple times without writing the same code over and over.\n"
   ]
  },
  {
   "cell_type": "markdown",
   "metadata": {},
   "source": [
    "#### Types of Loops\n",
    "\n",
    "- There are two main types of loops in Python:\n",
    "\n",
    "- for loops\n",
    "\n",
    "- while loops"
   ]
  },
  {
   "cell_type": "markdown",
   "metadata": {},
   "source": [
    "#### For Loop\n",
    "\n",
    "- Used to repeat code a specific number of times.\n",
    "\n",
    "- Often used with lists and ranges.\n"
   ]
  },
  {
   "cell_type": "markdown",
   "metadata": {},
   "source": [
    "#### Parts of a For Loop\n",
    "\n",
    "- The first part of the for loop is the for keyword.\n",
    "\n",
    "- This is followed by a variable that can be called anything the coder wants.\n",
    "\n",
    "- The in keyword is used next.\n",
    "\n",
    "- The next thing is the iterable or a sequence like a string or a list.\n",
    "\n",
    "- Then comes the colon that separates the executable statement. \n",
    "\n",
    "- The executable statement is indented.\n"
   ]
  },
  {
   "cell_type": "code",
   "execution_count": 43,
   "metadata": {},
   "outputs": [
    {
     "name": "stdout",
     "output_type": "stream",
     "text": [
      "h\n",
      "o\n",
      "u\n",
      "s\n",
      "e\n"
     ]
    }
   ],
   "source": [
    "for place in \"house\":\n",
    "    print(place)"
   ]
  },
  {
   "cell_type": "markdown",
   "metadata": {},
   "source": [
    "# All Done !\n",
    "\n",
    "- that was the reveiw for python!"
   ]
  }
 ],
 "metadata": {
  "kernelspec": {
   "display_name": "Python 3",
   "language": "python",
   "name": "python3"
  },
  "language_info": {
   "codemirror_mode": {
    "name": "ipython",
    "version": 3
   },
   "file_extension": ".py",
   "mimetype": "text/x-python",
   "name": "python",
   "nbconvert_exporter": "python",
   "pygments_lexer": "ipython3",
   "version": "3.12.5"
  }
 },
 "nbformat": 4,
 "nbformat_minor": 2
}
