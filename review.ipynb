{
 "cells": [
  {
   "cell_type": "markdown",
   "metadata": {},
   "source": [
    "# Python review"
   ]
  },
  {
   "cell_type": "markdown",
   "metadata": {},
   "source": [
    "#### what is a varible?\n",
    "\n",
    "- A variable is like a container that holds data.\n",
    "\n",
    "-It allows you to store information and use it later in your program."
   ]
  },
  {
   "cell_type": "markdown",
   "metadata": {},
   "source": [
    "#### Data Types\n",
    "\n",
    "- String: a word enclosed in quotes.\n",
    "\n",
    "- Integers: Whole numbers, positive or negative.\n",
    "\n",
    "- Floats: Numbers with a decimal point.\n",
    "\n",
    "- Booleans: True or False.\n"
   ]
  },
  {
   "cell_type": "markdown",
   "metadata": {},
   "source": [
    "#### Arithmetic Operations\n",
    "\n",
    "- Addition: +\n",
    "\n",
    "- Subtraction: -\n",
    "\n",
    "- Multiplication: *\n",
    "\n",
    "- Division: /\n",
    "\n",
    "- Modulus (remainder): %\n",
    "\n",
    "- Exponentiation: **\n"
   ]
  },
  {
   "cell_type": "markdown",
   "metadata": {},
   "source": [
    "#### Getting Input from the User\n",
    "\n",
    "- Use the input() function to get user input.\n",
    "\n",
    "- The input is always a string.\n"
   ]
  },
  {
   "cell_type": "markdown",
   "metadata": {},
   "source": [
    "#### String Concatenation\n",
    "\n",
    "- Combining strings using the + operator.\n"
   ]
  },
  {
   "cell_type": "markdown",
   "metadata": {},
   "source": [
    "#### String Repetition\n",
    "\n",
    "- Repeating strings using the * operator.\n",
    "\n"
   ]
  },
  {
   "cell_type": "markdown",
   "metadata": {},
   "source": [
    "#### Accessing Characters in a String\n",
    "\n",
    "- Using indexing to access specific characters.\n",
    "\n",
    "- Indexing starts at 0."
   ]
  },
  {
   "cell_type": "markdown",
   "metadata": {},
   "source": [
    "#### Slicing Strings\n",
    "\n",
    "- Extracting parts of a string using slices."
   ]
  },
  {
   "cell_type": "markdown",
   "metadata": {},
   "source": [
    "#### String Length\n",
    "\n",
    "- Using the len() function to get the length of a string.\n"
   ]
  },
  {
   "cell_type": "markdown",
   "metadata": {},
   "source": [
    "#### String MethodsCommon string methods:\n",
    "- upper(): Converts to uppercase\n",
    "\n",
    "- lower(): Converts to lowercase\n",
    "\n",
    "- title(): Capitalizes the first letter of each word\n",
    "\n",
    "- strip(): Removes whitespace\n"
   ]
  },
  {
   "cell_type": "markdown",
   "metadata": {},
   "source": [
    "#### What is an If-Else Statement?\n",
    "\n",
    "- if-Else statements help your program make decisions.\n",
    "\n",
    "- it's like asking a question and doing something based on the answer.\n"
   ]
  },
  {
   "cell_type": "markdown",
   "metadata": {},
   "source": [
    "#### Comparison Operators\n",
    "\n",
    "- Equals: a == b. This checks if a is the same thing with b\n",
    "\n",
    "- Not equals: a != b. This checks if the value of a is not equal to b\n",
    "\n",
    "- Less than: a < b. This checks if the value on the left side is less than the \n",
    "value on the right side.\n",
    "\n",
    "- Greater than: a > b. This checks if the value on the left side is greater than\n",
    "the value on the right side.\n",
    "\n",
    "- Less than or equal to: a <= b. This checks if the value on the left side is less than or equal to the value on the right side.\n",
    "\n",
    "- Greater than or equal to: a >= b. This checks if the value on the left side is greater than or equal to the value on the right side.\n",
    "\n"
   ]
  },
  {
   "cell_type": "markdown",
   "metadata": {},
   "source": [
    "#### The Syntax of If-Else in Python\n",
    "\n",
    "- if Statement: if condition:\n",
    "\n",
    "- Else Statement: else:\n"
   ]
  },
  {
   "cell_type": "markdown",
   "metadata": {},
   "source": [
    "#### What is elif?\n",
    "\n",
    "- elif stands for \"else if\".\n",
    "\n",
    "- it's used to check multiple conditions.\n",
    "\n",
    "- Helps your program make decisions.\n",
    "\n"
   ]
  },
  {
   "cell_type": "markdown",
   "metadata": {},
   "source": [
    "#### Types of Brackets\n",
    "\n",
    "- Parentheses ( )\n",
    "\n",
    "- Square Brackets [ ]\n",
    "\n",
    "- Curly Braces { }\n"
   ]
  },
  {
   "cell_type": "markdown",
   "metadata": {},
   "source": [
    "##### Parentheses ( )\n",
    "\n",
    "- Use: To call functions"
   ]
  },
  {
   "cell_type": "markdown",
   "metadata": {},
   "source": [
    "##### Square Brackets [ ]\n",
    "\n",
    "- Use:\n",
    "\n",
    "- Lists: To define lists.\n",
    "\n",
    "- Indexing: To access elements in lists.\n"
   ]
  },
  {
   "cell_type": "markdown",
   "metadata": {},
   "source": [
    "##### Curly Braces { }\n",
    "\n",
    "- Use\n",
    "\n",
    "- Dictionaries: To define dictionaries.\n",
    "\n",
    "- Sets: To define sets.\n",
    "\n",
    "- Blocks of Code: In some programming languages like JavaScript, to group statements.\n"
   ]
  },
  {
   "cell_type": "markdown",
   "metadata": {},
   "source": [
    "#### What is a Loop?\n",
    "\n",
    "- A loop is a way to repeat a block of code.\n",
    "\n",
    "- Useful for doing things multiple times without writing the same code over and over.\n"
   ]
  },
  {
   "cell_type": "markdown",
   "metadata": {},
   "source": [
    "#### Types of Loops\n",
    "\n",
    "- There are two main types of loops in Python:\n",
    "\n",
    "- for loops\n",
    "\n",
    "- while loops"
   ]
  },
  {
   "cell_type": "markdown",
   "metadata": {},
   "source": [
    "#### For Loop\n",
    "\n",
    "- Used to repeat code a specific number of times.\n",
    "\n",
    "- Often used with lists and ranges.\n"
   ]
  },
  {
   "cell_type": "markdown",
   "metadata": {},
   "source": [
    "#### Parts of a For Loop\n",
    "\n",
    "- The first part of the for loop is the for keyword.\n",
    "\n",
    "- This is followed by a variable that can be called anything the coder wants.\n",
    "\n",
    "- The in keyword is used next.\n",
    "\n",
    "- The next thing is the iterable or a sequence like a string or a list.\n",
    "\n",
    "- Then comes the colon that separates the executable statement. \n",
    "\n",
    "- The executable statement is indented.\n"
   ]
  },
  {
   "cell_type": "markdown",
   "metadata": {},
   "source": [
    "# All Done !\n",
    "\n",
    "- that was the reveiw for python!"
   ]
  }
 ],
 "metadata": {
  "language_info": {
   "name": "python"
  }
 },
 "nbformat": 4,
 "nbformat_minor": 2
}
